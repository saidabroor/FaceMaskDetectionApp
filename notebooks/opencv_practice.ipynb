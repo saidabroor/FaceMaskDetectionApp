{
 "cells": [
  {
   "cell_type": "code",
   "execution_count": 2,
   "id": "d0209b69",
   "metadata": {},
   "outputs": [],
   "source": [
    "import cv2\n",
    "import numpy as np"
   ]
  },
  {
   "cell_type": "code",
   "execution_count": 9,
   "id": "2cd43900",
   "metadata": {},
   "outputs": [],
   "source": [
    "img = cv2.imread('test.png')"
   ]
  },
  {
   "cell_type": "code",
   "execution_count": 10,
   "id": "2d5df30d",
   "metadata": {},
   "outputs": [],
   "source": [
    "img = cv2.resize(img, (500, 500))"
   ]
  },
  {
   "cell_type": "code",
   "execution_count": 11,
   "id": "e918b018",
   "metadata": {},
   "outputs": [],
   "source": [
    "gray = cv2.cvtColor(img, cv2.COLOR_BGR2GRAY)"
   ]
  },
  {
   "cell_type": "code",
   "execution_count": 12,
   "id": "931c4aab",
   "metadata": {},
   "outputs": [
    {
     "data": {
      "text/plain": [
       "array([[[180, 125,  98],\n",
       "        [180, 125,  98],\n",
       "        [180, 126,  98],\n",
       "        ...,\n",
       "        [179, 110,  67],\n",
       "        [179, 110,  67],\n",
       "        [179, 110,  67]],\n",
       "\n",
       "       [[180, 125,  98],\n",
       "        [180, 125,  98],\n",
       "        [180, 126,  98],\n",
       "        ...,\n",
       "        [179, 110,  67],\n",
       "        [179, 110,  67],\n",
       "        [179, 110,  67]],\n",
       "\n",
       "       [[180, 125,  98],\n",
       "        [180, 125,  98],\n",
       "        [181, 126,  99],\n",
       "        ...,\n",
       "        [179, 110,  67],\n",
       "        [179, 110,  67],\n",
       "        [179, 110,  67]],\n",
       "\n",
       "       ...,\n",
       "\n",
       "       [[184, 116,  75],\n",
       "        [184, 116,  75],\n",
       "        [184, 116,  75],\n",
       "        ...,\n",
       "        [ 89,  57,  30],\n",
       "        [ 89,  57,  30],\n",
       "        [ 89,  57,  30]],\n",
       "\n",
       "       [[184, 116,  75],\n",
       "        [184, 116,  75],\n",
       "        [184, 116,  75],\n",
       "        ...,\n",
       "        [ 89,  57,  30],\n",
       "        [ 89,  57,  30],\n",
       "        [ 89,  57,  30]],\n",
       "\n",
       "       [[184, 116,  75],\n",
       "        [184, 116,  75],\n",
       "        [184, 116,  75],\n",
       "        ...,\n",
       "        [ 89,  57,  30],\n",
       "        [ 89,  57,  30],\n",
       "        [ 89,  57,  30]]], dtype=uint8)"
      ]
     },
     "execution_count": 12,
     "metadata": {},
     "output_type": "execute_result"
    }
   ],
   "source": [
    "cv2.putText(img, 'Hello CV', (50, 300), cv2.FONT_HERSHEY_SIMPLEX, 1, (255, 0, 0), 2)"
   ]
  },
  {
   "cell_type": "code",
   "execution_count": 13,
   "id": "aec122e0",
   "metadata": {},
   "outputs": [],
   "source": [
    "cv2.imshow('Original', img)"
   ]
  },
  {
   "cell_type": "code",
   "execution_count": null,
   "id": "ca3a28d2",
   "metadata": {},
   "outputs": [],
   "source": [
    "cv2.imshow('Gray', gray)"
   ]
  },
  {
   "cell_type": "code",
   "execution_count": 15,
   "id": "0009c4fe",
   "metadata": {},
   "outputs": [
    {
     "data": {
      "text/plain": [
       "-1"
      ]
     },
     "execution_count": 15,
     "metadata": {},
     "output_type": "execute_result"
    }
   ],
   "source": [
    "cv2.waitKey(0)"
   ]
  },
  {
   "cell_type": "code",
   "execution_count": null,
   "id": "00312ddf",
   "metadata": {},
   "outputs": [],
   "source": [
    "cv2.destroyAllWindows()"
   ]
  },
  {
   "cell_type": "code",
   "execution_count": 1,
   "id": "3bae38e7",
   "metadata": {},
   "outputs": [
    {
     "name": "stdout",
     "output_type": "stream",
     "text": [
      "Before function call\n",
      "Hello, Alice!\n",
      "After function call\n"
     ]
    }
   ],
   "source": [
    "# What will be printed when this code is executed?\n",
    "\n",
    "def decorator(func):\n",
    "    def wrapper(*args, **kwargs):\n",
    "        print(\"Before function call\")\n",
    "        result = func(*args, **kwargs)\n",
    "        print(\"After function call\")\n",
    "        return result\n",
    "    return wrapper\n",
    " \n",
    "@decorator\n",
    "def greet(name):\n",
    "    print(f\"Hello, {name}!\")\n",
    " \n",
    "greet(\"Alice\")"
   ]
  },
  {
   "cell_type": "code",
   "execution_count": 6,
   "id": "542cb899",
   "metadata": {},
   "outputs": [
    {
     "name": "stdout",
     "output_type": "stream",
     "text": [
      "(1, 2, 3, 4)\n"
     ]
    },
    {
     "data": {
      "text/plain": [
       "10"
      ]
     },
     "execution_count": 6,
     "metadata": {},
     "output_type": "execute_result"
    }
   ],
   "source": [
    "def add_numbers(*args):\n",
    "    print(args)\n",
    "    return sum(args)\n",
    "add_numbers(1,2,3,4)"
   ]
  },
  {
   "cell_type": "code",
   "execution_count": 7,
   "id": "1f1cd976",
   "metadata": {},
   "outputs": [],
   "source": [
    "def user_info(**kwargs):\n",
    "    print(kwargs)"
   ]
  },
  {
   "cell_type": "code",
   "execution_count": 9,
   "id": "ceaa3dd3",
   "metadata": {},
   "outputs": [
    {
     "name": "stdout",
     "output_type": "stream",
     "text": [
      "{'name': 'Alice', 'age': 30, 'country': 'Korea'}\n"
     ]
    }
   ],
   "source": [
    "user_info(name = \"Alice\", age= 30, country = 'Korea')"
   ]
  },
  {
   "cell_type": "code",
   "execution_count": 10,
   "id": "001f3236",
   "metadata": {},
   "outputs": [
    {
     "name": "stdout",
     "output_type": "stream",
     "text": [
      "[4, 8, 12]\n",
      "[]\n"
     ]
    }
   ],
   "source": [
    "def filter_and_map(items):\n",
    "    for item in items:\n",
    "        if item % 2 == 0:\n",
    "            yield item * 2\n",
    "        else:\n",
    "            continue\n",
    " \n",
    "def process_pipeline():\n",
    "    numbers = [1, 2, 3, 4, 5, 6]\n",
    "    filtered_mapped = filter_and_map(numbers)\n",
    "    print(list(filtered_mapped))\n",
    "    print(list(filtered_mapped))  # Second iteration\n",
    " \n",
    "process_pipeline()"
   ]
  },
  {
   "cell_type": "code",
   "execution_count": null,
   "id": "3a223771",
   "metadata": {},
   "outputs": [
    {
     "data": {
      "text/plain": [
       "(4, 8, 12)"
      ]
     },
     "execution_count": 20,
     "metadata": {},
     "output_type": "execute_result"
    }
   ],
   "source": [
    "a = filter_and_map([1,2,3,4,5,6])"
   ]
  },
  {
   "cell_type": "code",
   "execution_count": 16,
   "id": "1b831d50",
   "metadata": {},
   "outputs": [
    {
     "name": "stdout",
     "output_type": "stream",
     "text": [
      "[4, 8, 12]\n"
     ]
    }
   ],
   "source": [
    "filtered_mapped = filter_and_map([1, 2, 3, 4, 5, 6])\n",
    "print(list(filtered_mapped))"
   ]
  },
  {
   "cell_type": "code",
   "execution_count": 35,
   "id": "25bc8490",
   "metadata": {},
   "outputs": [],
   "source": [
    "def double(n):\n",
    "    l = []\n",
    "    for i in n:\n",
    "      if i % 2 == 0:\n",
    "          l.append(i * 2)\n",
    "    return l"
   ]
  },
  {
   "cell_type": "code",
   "execution_count": 36,
   "id": "0792d672",
   "metadata": {},
   "outputs": [
    {
     "data": {
      "text/plain": [
       "[4, 8]"
      ]
     },
     "execution_count": 36,
     "metadata": {},
     "output_type": "execute_result"
    }
   ],
   "source": [
    "double([1,2,3,4,5])"
   ]
  },
  {
   "cell_type": "code",
   "execution_count": 37,
   "id": "c6503a72",
   "metadata": {},
   "outputs": [
    {
     "name": "stdout",
     "output_type": "stream",
     "text": [
      "[[5 6]\n",
      " [3 4]]\n"
     ]
    }
   ],
   "source": [
    "import numpy as np\n",
    " \n",
    "a = np.array([[1, 2], [3, 4]])\n",
    "b = np.array([[5, 6], [7, 8]])\n",
    " \n",
    "result = np.where(a > 2, a, b)\n",
    "print(result)"
   ]
  },
  {
   "cell_type": "code",
   "execution_count": null,
   "id": "d03e29e9",
   "metadata": {},
   "outputs": [],
   "source": [
    "Multilayer neural networks\n",
    "convolutional neural network\n",
    "artificial neural network\n",
    "rnn - recurrent neural network\n",
    "hadoop\n",
    "as the amount of data increases, ml does not increase but dl increases\n",
    "\n",
    "segmentation\n",
    "detection\n",
    "computer vision all parts\n",
    "blurring background\n",
    "replacing background\n",
    "black and white photos\n",
    "scikit image, pillow, opencv, pytorch, tensorflow\n",
    "hugging face, detectron2, yolo, mmdetection, fastai\n",
    "\n",
    "opencv - turning ideas into practical apps\n",
    "\n",
    "if you can solve problems in your model using logic and problem solving using python coding, no need to apply any ml or ai algorithms\n",
    "\n",
    "things that can be solved with traditional cv, no need to apply dl cv\n",
    "\n",
    "augmented reality\n",
    "cross platoform\n",
    "image manipulation\n",
    "tracking\n",
    "edge detection\n",
    "read/write\n",
    "object detection\n",
    "color filtering\n",
    "\n"
   ]
  },
  {
   "cell_type": "code",
   "execution_count": 4,
   "id": "4efc4dfa",
   "metadata": {},
   "outputs": [],
   "source": [
    "image = cv2.imread(\"test.png\")"
   ]
  },
  {
   "cell_type": "code",
   "execution_count": 5,
   "id": "7d963485",
   "metadata": {},
   "outputs": [
    {
     "name": "stdout",
     "output_type": "stream",
     "text": [
      "Image loaded successfully.\n"
     ]
    }
   ],
   "source": [
    "if image is None:\n",
    "    print('Error: could not load the image')\n",
    "else:\n",
    "    print('Image loaded successfully.')"
   ]
  },
  {
   "cell_type": "code",
   "execution_count": 10,
   "id": "cb28f949",
   "metadata": {},
   "outputs": [],
   "source": [
    "cv2.imshow(\"\",image)\n",
    "cv2.waitKey(0)\n",
    "cv2.destroyAllWindows()"
   ]
  },
  {
   "cell_type": "code",
   "execution_count": 8,
   "id": "9152aec2",
   "metadata": {},
   "outputs": [
    {
     "data": {
      "text/plain": [
       "True"
      ]
     },
     "execution_count": 8,
     "metadata": {},
     "output_type": "execute_result"
    }
   ],
   "source": [
    "# writing a image\n",
    "\n",
    "image_new = image - 30\n",
    "cv2.imwrite(\"output.jpg\", image_new)"
   ]
  },
  {
   "cell_type": "code",
   "execution_count": null,
   "id": "db572f07",
   "metadata": {},
   "outputs": [],
   "source": []
  }
 ],
 "metadata": {
  "kernelspec": {
   "display_name": "Python 3",
   "language": "python",
   "name": "python3"
  },
  "language_info": {
   "codemirror_mode": {
    "name": "ipython",
    "version": 3
   },
   "file_extension": ".py",
   "mimetype": "text/x-python",
   "name": "python",
   "nbconvert_exporter": "python",
   "pygments_lexer": "ipython3",
   "version": "3.8.20"
  }
 },
 "nbformat": 4,
 "nbformat_minor": 5
}
